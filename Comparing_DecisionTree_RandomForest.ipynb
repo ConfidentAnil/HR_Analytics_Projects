{
 "cells": [
  {
   "cell_type": "code",
   "execution_count": null,
   "id": "ef57cc8c",
   "metadata": {},
   "outputs": [],
   "source": [
    "import pandas as pd"
   ]
  },
  {
   "cell_type": "code",
   "execution_count": null,
   "id": "9f5fc683",
   "metadata": {},
   "outputs": [],
   "source": [
    "data = pd.read_csv('titanic.csv')\n",
    "data"
   ]
  },
  {
   "cell_type": "code",
   "execution_count": null,
   "id": "92ac1776",
   "metadata": {},
   "outputs": [],
   "source": [
    "data.head(10)"
   ]
  },
  {
   "cell_type": "markdown",
   "id": "7270441f",
   "metadata": {},
   "source": [
    "# Implementing Decision Tree Model"
   ]
  },
  {
   "cell_type": "markdown",
   "id": "9b767eaa",
   "metadata": {},
   "source": [
    "* Data Wrangling/Data Preparation\n",
    "* Training and testing\n",
    "* Evaluating Model : Checking Model Prediction Accuracy"
   ]
  },
  {
   "cell_type": "code",
   "execution_count": null,
   "id": "210a8c52",
   "metadata": {},
   "outputs": [],
   "source": [
    "data.dtypes"
   ]
  },
  {
   "cell_type": "code",
   "execution_count": null,
   "id": "7c0e11c9",
   "metadata": {},
   "outputs": [],
   "source": [
    "#Treating missing values with central tendencies\n",
    "data.isnull().sum()"
   ]
  },
  {
   "cell_type": "code",
   "execution_count": null,
   "id": "7ee8cc96",
   "metadata": {},
   "outputs": [],
   "source": [
    "data['Survived'].value_counts() #The data is slightly imbalanced. More people survived than died."
   ]
  },
  {
   "cell_type": "code",
   "execution_count": null,
   "id": "2cba7161",
   "metadata": {},
   "outputs": [],
   "source": [
    "data.Age.fillna(data.Age.mean(), inplace=True)"
   ]
  },
  {
   "cell_type": "code",
   "execution_count": null,
   "id": "4c5f6fd6",
   "metadata": {},
   "outputs": [],
   "source": [
    "data.shape"
   ]
  },
  {
   "cell_type": "code",
   "execution_count": null,
   "id": "da730b90",
   "metadata": {},
   "outputs": [],
   "source": [
    "data.groupby('Cabin').count()"
   ]
  },
  {
   "cell_type": "code",
   "execution_count": null,
   "id": "a842cd57",
   "metadata": {},
   "outputs": [],
   "source": [
    "data['Cabin_Group'] = data['Cabin'].str[0]"
   ]
  },
  {
   "cell_type": "code",
   "execution_count": null,
   "id": "6fc09fd2",
   "metadata": {},
   "outputs": [],
   "source": [
    "data.groupby(['Cabin_Group', 'Survived']).count()"
   ]
  },
  {
   "cell_type": "code",
   "execution_count": null,
   "id": "aa891637",
   "metadata": {},
   "outputs": [],
   "source": [
    "data.where(data.Cabin_Group=='NP').groupby('Survived').count()"
   ]
  },
  {
   "cell_type": "code",
   "execution_count": null,
   "id": "048f33ba",
   "metadata": {},
   "outputs": [],
   "source": [
    "data.groupby('Cabin_Group').count()"
   ]
  },
  {
   "cell_type": "code",
   "execution_count": null,
   "id": "8bb225d3",
   "metadata": {},
   "outputs": [],
   "source": [
    "data.Cabin_Group.fillna('NP', inplace = True) #imputing missing values"
   ]
  },
  {
   "cell_type": "code",
   "execution_count": null,
   "id": "d110e748",
   "metadata": {},
   "outputs": [],
   "source": [
    "data.Embarked.fillna('S', inplace = True) #imputing missing values"
   ]
  },
  {
   "cell_type": "code",
   "execution_count": null,
   "id": "f08514df",
   "metadata": {},
   "outputs": [],
   "source": [
    "data.columns"
   ]
  },
  {
   "cell_type": "code",
   "execution_count": null,
   "id": "33555af4",
   "metadata": {},
   "outputs": [],
   "source": [
    "data.groupby('Pclass').count()"
   ]
  },
  {
   "cell_type": "code",
   "execution_count": null,
   "id": "d4826df2",
   "metadata": {},
   "outputs": [],
   "source": [
    "data.groupby('Sex').count()"
   ]
  },
  {
   "cell_type": "code",
   "execution_count": null,
   "id": "32eea77a",
   "metadata": {},
   "outputs": [],
   "source": [
    "data.groupby('Survived').count()"
   ]
  },
  {
   "cell_type": "code",
   "execution_count": null,
   "id": "756b560a",
   "metadata": {},
   "outputs": [],
   "source": [
    "data.groupby('SibSp').count()"
   ]
  },
  {
   "cell_type": "code",
   "execution_count": null,
   "id": "9c039e3c",
   "metadata": {},
   "outputs": [],
   "source": [
    "data.groupby('Parch').count()"
   ]
  },
  {
   "cell_type": "code",
   "execution_count": null,
   "id": "48c400a0",
   "metadata": {},
   "outputs": [],
   "source": [
    "data.groupby('Cabin_Group').count()"
   ]
  },
  {
   "cell_type": "code",
   "execution_count": null,
   "id": "928d3442",
   "metadata": {},
   "outputs": [],
   "source": [
    "data.groupby('Embarked').count()"
   ]
  },
  {
   "cell_type": "code",
   "execution_count": null,
   "id": "5ca5aa52",
   "metadata": {},
   "outputs": [],
   "source": [
    "data.drop(columns = ['PassengerId', 'Name', 'Ticket', 'Cabin'], inplace = True) #dropping which will not relevant to Survival prediction"
   ]
  },
  {
   "cell_type": "code",
   "execution_count": null,
   "id": "ab68c92d",
   "metadata": {},
   "outputs": [],
   "source": [
    "bins = [0,100,200,300,400,513]\n",
    "labels = ['Low', 'Medium', 'High', 'Expensive', 'Exorbitant']\n",
    "data['Fare'] = pd.cut(data['Fare'], bins  = bins, labels = labels) #segmenting the data into groups/bins."
   ]
  },
  {
   "cell_type": "code",
   "execution_count": null,
   "id": "b24a1606",
   "metadata": {},
   "outputs": [],
   "source": [
    "data['Age'] = data['Age'].round() #rounding the age to 1 decimal"
   ]
  },
  {
   "cell_type": "markdown",
   "id": "798babe1",
   "metadata": {},
   "source": [
    "Training and Testing"
   ]
  },
  {
   "cell_type": "code",
   "execution_count": null,
   "id": "3f66716f",
   "metadata": {},
   "outputs": [],
   "source": [
    "from sklearn.preprocessing import OneHotEncoder\n",
    "ohe = OneHotEncoder(sparse=False)\n",
    "data[['Female', 'Male', 'C', 'Q', 'S']] = ohe.fit_transform(data[['Sex', 'Embarked']]) #One hot encoding\n",
    "data\n",
    "\n",
    "\n"
   ]
  },
  {
   "cell_type": "code",
   "execution_count": null,
   "id": "18e1b84b",
   "metadata": {},
   "outputs": [],
   "source": [
    "from sklearn.preprocessing import LabelEncoder\n",
    "le = LabelEncoder()\n",
    "data['Fare'] = le.fit_transform(data[['Fare']]) #label encoding\n",
    "data\n",
    "data['Cabin_Group'] = le.fit_transform(data[['Cabin_Group']]) #label encoding\n",
    "data.drop(columns = ['Sex', 'Embarked'], inplace = True)\n",
    "print('Made a Data Analytical Model, and it is ready for training and testing.')\n",
    "for i in data.columns:\n",
    "    data[i] = data[i].astype('str')"
   ]
  },
  {
   "cell_type": "code",
   "execution_count": null,
   "id": "05c479d1",
   "metadata": {},
   "outputs": [],
   "source": [
    "x = data.iloc[:, 1:]\n",
    "y = data.iloc[:, 0]"
   ]
  },
  {
   "cell_type": "code",
   "execution_count": null,
   "id": "9de28433",
   "metadata": {},
   "outputs": [],
   "source": [
    "from sklearn.model_selection import train_test_split\n",
    "x_train, x_test, y_train, y_test = train_test_split(x, y, test_size = 0.2, random_state = 0) #training and testing\n",
    "y_test = y_test.astype('int32') #Type casting string to integer otherwise it will give error, because for numerical calculation it takes integer/float only."
   ]
  },
  {
   "cell_type": "code",
   "execution_count": null,
   "id": "f8350079",
   "metadata": {},
   "outputs": [],
   "source": [
    "from sklearn.tree import DecisionTreeClassifier\n",
    "dtc = DecisionTreeClassifier() #NonParameterized Decision Tree\n",
    "dtc.fit(x_train, y_train)\n",
    "pred_test = dtc.predict(x_test)\n",
    "pred_train = dtc.predict(x_train) #fit Decision Tree Model\n",
    "pred_test = pred_test.astype('int32')"
   ]
  },
  {
   "cell_type": "code",
   "execution_count": null,
   "id": "fc528a20",
   "metadata": {},
   "outputs": [],
   "source": [
    "from sklearn.metrics import classification_report, accuracy_score, confusion_matrix\n",
    "target_names = ['Died : 0', 'Survived : 1']\n",
    "print(classification_report(pred_test, y_test, target_names = target_names)) #Prediction Accuracy on test data"
   ]
  },
  {
   "cell_type": "code",
   "execution_count": null,
   "id": "e982834b",
   "metadata": {},
   "outputs": [],
   "source": [
    "print(classification_report(pred_train, y_train, target_names = target_names)) #Prediction Accuracy on train data"
   ]
  },
  {
   "cell_type": "code",
   "execution_count": null,
   "id": "53d3e8d3",
   "metadata": {},
   "outputs": [],
   "source": [
    "print(accuracy_score(pred_train, y_train)) #Accuracy metric's accuracy prediction value on train data"
   ]
  },
  {
   "cell_type": "code",
   "execution_count": null,
   "id": "7d2f20f2",
   "metadata": {},
   "outputs": [],
   "source": [
    "print(accuracy_score(pred_test, y_test)) #Accuracy metric's accuracy prediction value on test data"
   ]
  },
  {
   "cell_type": "code",
   "execution_count": null,
   "id": "972d4ab6",
   "metadata": {},
   "outputs": [],
   "source": [
    "pd.crosstab(pred_train, y_train) #Checking correctly classified and misclassified values using crosstab for train data"
   ]
  },
  {
   "cell_type": "code",
   "execution_count": null,
   "id": "15b5072a",
   "metadata": {},
   "outputs": [],
   "source": [
    "print(f\"Model's accuracy on train data when predicting person died or 0 : {417/(417+22)}\") #Model's accuracy to predict people who died i.e. 0\n",
    "print(f\"Model's accuracy on train data when predicting person survived or 1 :{175/(175+98)}\") #Model's accuracy to predict people who died i.e. 1\n",
    "print('Inference : Model is accurate at predicting person who are died i.e. 0 than person who are survived i.e. 1')"
   ]
  },
  {
   "cell_type": "code",
   "execution_count": null,
   "id": "3a28b5d4",
   "metadata": {},
   "outputs": [],
   "source": [
    "pd.crosstab(pred_test, y_test)#Checking correctly classified and misclassified values using crosstab for train data"
   ]
  },
  {
   "cell_type": "code",
   "execution_count": null,
   "id": "909fb3b4",
   "metadata": {
    "scrolled": true
   },
   "outputs": [],
   "source": [
    "print(f\"Model's accuracy on test data when predicting person died or 0 : {105/(105+5)}\") #Model's accuracy to predict people who died i.e. 0\n",
    "print(f\"Model's accuracy on test data when predicting person survived or 1 :{45/(24+45)}\") #Model's accuracy to predict people who died i.e. 1\n",
    "print('Inference : Model is accurate at predicting person who are died i.e. 0 than person who are survived i.e. 1')"
   ]
  },
  {
   "cell_type": "code",
   "execution_count": null,
   "id": "03b8018c",
   "metadata": {},
   "outputs": [],
   "source": [
    "confusion_matrix(pred_train, y_train) #Type II error or Type I #How to is 433 = 0 or 1"
   ]
  },
  {
   "cell_type": "code",
   "execution_count": null,
   "id": "f3d78cd7",
   "metadata": {},
   "outputs": [],
   "source": [
    "confusion_matrix(pred_test, y_test) #Type I error or Type II #How to is 95 = 0 or 1"
   ]
  },
  {
   "cell_type": "code",
   "execution_count": null,
   "id": "a6c1d177",
   "metadata": {},
   "outputs": [],
   "source": [
    "dtc.get_depth() #Depth of decision tree"
   ]
  },
  {
   "cell_type": "code",
   "execution_count": null,
   "id": "8692a837",
   "metadata": {},
   "outputs": [],
   "source": [
    "dtc.get_params() #Gives all parameters used while building Decision Tree"
   ]
  },
  {
   "cell_type": "code",
   "execution_count": null,
   "id": "e52c88b8",
   "metadata": {},
   "outputs": [],
   "source": [
    "dtc.predict_proba(x_test) #The model calculates the probability of a class and not as 0 or 1, if it's a hetergenous node then it will give fractional probability and not either 0 or 1, 0 i.e. person died and 1 i.e. person survived.\n",
    "#If we increase the depth of the tree and as more leaf nodes are created, most of values will have probability either 0 or 1.\n",
    "#If the probability value is [0.2, 0.7] it means the probability of 0 is 0.2, and 1 is 0.7 as explained,\n",
    "#[0.8767507 , 0.1232493 ], here probability of 0 is 0.8 for 1st observation of test data, and 1 is 0.12, total probability will be 1\n",
    "#[0.92857143, 0.07142857], here probability of 0 is 0.92 for 3rd observation of test data, and 1 is 0.07, total probability will be 1\n",
    "#Remember our ROC curve has given threshold 0.63 it means, if 0th element i.e. class 0 has probability less than 0.63 then it is class 1 similarly\n",
    "#If class 1 i.e. 2nd element of the list has value more than 0.63 then it is a class 1, if  value less than 0.63 then it is class 0\n",
    "#For above 3rd observation, the probabilities are [0.92857143, 0.07142857], it means, 0 has 0.9 probability, 1 has 0.07, since threshold is 0.63, and 0 has greater than 0.9 it means it is 0\n",
    "#Usually the threshold is 0.5 however when the dataset is imbalanced the threshold can vary, we use ROC curve to find the threshold"
   ]
  },
  {
   "cell_type": "code",
   "execution_count": null,
   "id": "e51da336",
   "metadata": {},
   "outputs": [],
   "source": [
    "dtc.feature_importances_ #which feature has highest information gain is found from this attribute"
   ]
  },
  {
   "cell_type": "code",
   "execution_count": null,
   "id": "62a03263",
   "metadata": {},
   "outputs": [],
   "source": [
    "import matplotlib.pyplot as plt #graphical representation of decision tree\n",
    "from sklearn import tree\n",
    "plt.figure(figsize = (10,15))\n",
    "tree.plot_tree(dtc, feature_names = x_train.columns, class_names = data['Survived'], filled =True)"
   ]
  },
  {
   "cell_type": "code",
   "execution_count": null,
   "id": "74345dc8",
   "metadata": {},
   "outputs": [],
   "source": [
    "from sklearn.tree import export_text\n",
    "print(export_text(dtc))"
   ]
  },
  {
   "cell_type": "code",
   "execution_count": null,
   "id": "03fe4a6f",
   "metadata": {},
   "outputs": [],
   "source": [
    "new_record = [[4,12.0, 1, 0, 5, 7, 0, 1, 0, 0, 1]] #Gender is Male\n",
    "prediction = dtc.predict(new_record)\n",
    "print('Prediction for new record :', prediction)\n",
    "\n",
    "new_record = [[4, 12.0, 1, 0, 5, 7,1, 0, 0, 0, 1]]\n",
    "prediction = dtc.predict(new_record)\n",
    "print('Prediction for new record :', prediction) #Gender is Female\n",
    "\n",
    "#Predicting a new record coming outside of train and test"
   ]
  },
  {
   "cell_type": "code",
   "execution_count": null,
   "id": "aec42bb1",
   "metadata": {},
   "outputs": [],
   "source": [
    "#Finding threshold using RUC Curve and AUC\n",
    "from sklearn.metrics import roc_curve, auc\n",
    "fpr, tpr, threshold = roc_curve(y_test, pd.Series(pred_test))\n",
    "plt.plot(fpr,tpr) #0.63 is the threshold \n"
   ]
  },
  {
   "cell_type": "code",
   "execution_count": null,
   "id": "5cb313fe",
   "metadata": {},
   "outputs": [],
   "source": [
    "x"
   ]
  },
  {
   "cell_type": "markdown",
   "id": "faa8312f",
   "metadata": {},
   "source": [
    "# Hyperparameterizing the model Manually & using GridSearchCV"
   ]
  },
  {
   "cell_type": "code",
   "execution_count": null,
   "id": "e8de011a",
   "metadata": {},
   "outputs": [],
   "source": [
    "#Hyperparameterizing the model and checking classification report and other performance metrics"
   ]
  },
  {
   "cell_type": "code",
   "execution_count": null,
   "id": "23e63cea",
   "metadata": {},
   "outputs": [],
   "source": [
    "dtcmanual = DecisionTreeClassifier(criterion = 'entropy', max_depth = 3, min_samples_leaf= 3)\n",
    "dtcmanual.fit(x_train, y_train)\n",
    "pred_test1 = dtcmanual.predict(x_test)\n",
    "pred_train2 = dtcmanual.predict(x_train)"
   ]
  },
  {
   "cell_type": "code",
   "execution_count": null,
   "id": "1edf2a68",
   "metadata": {},
   "outputs": [],
   "source": [
    "y_test = y_test.astype('str')\n",
    "print(classification_report(y_test, pred_test1, target_names = target_names)) \n",
    "#Recall is classifying person died i.e. 0 with 95% accuracy\n",
    "#Where recall is classifying person survived with 65% accuracy only\n",
    "#Precision classifying person died with 81% accuracy\n",
    "#Where precision is classifying person survived with 90% accuracy."
   ]
  },
  {
   "cell_type": "code",
   "execution_count": null,
   "id": "1703fc9c",
   "metadata": {},
   "outputs": [],
   "source": [
    "print(classification_report(y_train, pred_train2, target_names = target_names))\n",
    "#Recall is classifying person died i.e. 0 with 95% accuracy\n",
    "#Where recall is classifying person survived with 64% accuracy only\n",
    "#Precision classifying person died with 81% accuracy\n",
    "#Where precision is classifying person survived with 89% accuracy."
   ]
  },
  {
   "cell_type": "code",
   "execution_count": null,
   "id": "c1fd2e23",
   "metadata": {},
   "outputs": [],
   "source": [
    "confusion_matrix(pred_test1, y_test)"
   ]
  },
  {
   "cell_type": "code",
   "execution_count": null,
   "id": "b2ba8c5a",
   "metadata": {},
   "outputs": [],
   "source": [
    "confusion_matrix(pred_train2, y_train)"
   ]
  },
  {
   "cell_type": "code",
   "execution_count": null,
   "id": "2d15ad91",
   "metadata": {},
   "outputs": [],
   "source": [
    "accuracy_score(pred_test1, y_test) #Accuracy score for test data"
   ]
  },
  {
   "cell_type": "code",
   "execution_count": null,
   "id": "65070028",
   "metadata": {},
   "outputs": [],
   "source": [
    "accuracy_score(pred_train2, y_train) #Accuracy score for train data"
   ]
  },
  {
   "cell_type": "markdown",
   "id": "1e9a4c4f",
   "metadata": {},
   "source": [
    "Hyperparameterizing the model using GridSearchCV"
   ]
  },
  {
   "cell_type": "code",
   "execution_count": null,
   "id": "ea0b1bb3",
   "metadata": {},
   "outputs": [],
   "source": [
    "# import time\n",
    "# start_time = time.time()\n",
    "# from sklearn.model_selection import GridSearchCV\n",
    "# dtcwithgridsearchcv = DecisionTreeClassifier()\n",
    "# params = {'criterion' : ['gini', 'entropy', 'log_loss'], 'max_depth' : list(range(2,50)), 'min_samples_leaf' : list(range(3,10)), 'min_samples_split' : list(range(2,20))}\n",
    "# gridsearchcvobject = GridSearchCV(dtcwithgridsearchcv, params, cv = 5, scoring = 'accuracy')\n",
    "# gridsearchcvobject.fit(x_train, y_train)\n",
    "# gridsearchcvobject.predict(x_test)\n",
    "# end_time = time.time()\n",
    "# run_time = end_time - start_time\n",
    "# run_time\n"
   ]
  },
  {
   "cell_type": "code",
   "execution_count": null,
   "id": "aedfc09e",
   "metadata": {},
   "outputs": [],
   "source": [
    "#-----------------------------------------------------"
   ]
  },
  {
   "cell_type": "code",
   "execution_count": null,
   "id": "968595cd",
   "metadata": {},
   "outputs": [],
   "source": [
    "#-----------------------------------------------------"
   ]
  },
  {
   "cell_type": "code",
   "execution_count": null,
   "id": "57cf65cf",
   "metadata": {},
   "outputs": [],
   "source": [
    "#-----------------------------------------------------"
   ]
  },
  {
   "cell_type": "markdown",
   "id": "7d1f843a",
   "metadata": {},
   "source": [
    "# Random Forest with default parameters"
   ]
  },
  {
   "cell_type": "code",
   "execution_count": null,
   "id": "b4d3248d",
   "metadata": {},
   "outputs": [],
   "source": [
    "from sklearn.ensemble import RandomForestClassifier\n",
    "rf = RandomForestClassifier()\n",
    "rf.fit(x_train, y_train)\n",
    "pred_xtrain = rf.predict(x_train)\n",
    "pred_xtest = rf.predict(x_test)"
   ]
  },
  {
   "cell_type": "code",
   "execution_count": null,
   "id": "85e9a9be",
   "metadata": {},
   "outputs": [],
   "source": [
    "print(classification_report(pred_xtrain, y_train, target_names = ['Not Survived', 'Survived']))\n",
    "print(classification_report(pred_xtest, y_test, target_names = ['Not Survivevd', 'S']))"
   ]
  },
  {
   "cell_type": "code",
   "execution_count": null,
   "id": "070f3b8a",
   "metadata": {},
   "outputs": [],
   "source": [
    "pd.crosstab(y_test, pred_xtest) #Crosstab for x_test data"
   ]
  },
  {
   "cell_type": "code",
   "execution_count": null,
   "id": "2e08d262",
   "metadata": {},
   "outputs": [],
   "source": [
    "pd.crosstab(y_train, pred_xtrain) #Crosstab for x_train data"
   ]
  },
  {
   "cell_type": "code",
   "execution_count": null,
   "id": "cc37d6c5",
   "metadata": {},
   "outputs": [],
   "source": [
    "accuracy_score(y_train, pred_xtrain) #Train data's accuracy score"
   ]
  },
  {
   "cell_type": "code",
   "execution_count": null,
   "id": "99c8aae1",
   "metadata": {},
   "outputs": [],
   "source": [
    "accuracy_score(y_test, pred_xtest) #Test data's accuracy score"
   ]
  },
  {
   "cell_type": "markdown",
   "id": "4e5cf481",
   "metadata": {},
   "source": [
    "# Hyperparameterizing the Random Forest using GridSearchCV"
   ]
  },
  {
   "cell_type": "code",
   "execution_count": null,
   "id": "18d72f1b",
   "metadata": {},
   "outputs": [],
   "source": [
    "from sklearn.model_selection import GridSearchCV\n",
    "dtcwithgridsearchcv = RandomForestClassifier()\n",
    "params = {'n_estimators' : list(range(20,50)),\n",
    "          'criterion' : ['gini', 'entropy', 'log_loss'], \n",
    "          'max_features' : ['sqrt', 'log2'],\n",
    "          'max_depth' : list(range(2,15)),\n",
    "          'min_samples_leaf' : list(range(3,10)),\n",
    "          'min_samples_split' : list(range(2,6))\n",
    "         }\n",
    "gridsearchcvobject = GridSearchCV(dtcwithgridsearchcv, params, cv = 5, scoring = 'accuracy', n_jobs = -1)\n",
    "gridsearchcvobject.fit(x_train, y_train)\n",
    "pred_xtest1 = gridsearchcvobject.predict(x_test)\n",
    "pred_xtrain1 = gridsearchcvobject.predict(x_train)\n",
    "\n"
   ]
  },
  {
   "cell_type": "code",
   "execution_count": null,
   "id": "381dab72",
   "metadata": {},
   "outputs": [],
   "source": [
    "print(classification_report(y_test, pred_xtest1))"
   ]
  },
  {
   "cell_type": "code",
   "execution_count": null,
   "id": "a539f6eb",
   "metadata": {},
   "outputs": [],
   "source": [
    "print(classification_report(y_train, pred_xtrain1))"
   ]
  },
  {
   "cell_type": "code",
   "execution_count": null,
   "id": "9f80239f",
   "metadata": {},
   "outputs": [],
   "source": [
    "accuracy_score(y_test, pred_xtest1) #Xtest data's accuracy score"
   ]
  },
  {
   "cell_type": "code",
   "execution_count": null,
   "id": "199ffa98",
   "metadata": {},
   "outputs": [],
   "source": [
    "accuracy_score(y_train, pred_xtrain1) #Ytrain data's accuracy score"
   ]
  },
  {
   "cell_type": "code",
   "execution_count": null,
   "id": "e0cecbdd",
   "metadata": {},
   "outputs": [],
   "source": [
    "gridsearchcvobject.best_params_"
   ]
  },
  {
   "cell_type": "code",
   "execution_count": null,
   "id": "f59f2d02",
   "metadata": {},
   "outputs": [],
   "source": [
    "gridsearchcvobject.best_score_"
   ]
  },
  {
   "cell_type": "code",
   "execution_count": null,
   "id": "6d6257a9",
   "metadata": {},
   "outputs": [],
   "source": [
    "pd.crosstab(pred_xtest1, y_test)"
   ]
  },
  {
   "cell_type": "code",
   "execution_count": null,
   "id": "8c569285",
   "metadata": {},
   "outputs": [],
   "source": [
    "pd.crosstab(pred_xtrain1, y_train)"
   ]
  },
  {
   "cell_type": "code",
   "execution_count": null,
   "id": "b27e2292",
   "metadata": {},
   "outputs": [],
   "source": [
    "gridsearchcvobject.best_estimator_"
   ]
  },
  {
   "cell_type": "code",
   "execution_count": null,
   "id": "c3f41366",
   "metadata": {},
   "outputs": [],
   "source": [
    "gridsearchcvobject.param_grid"
   ]
  },
  {
   "cell_type": "code",
   "execution_count": null,
   "id": "477b8906",
   "metadata": {},
   "outputs": [],
   "source": []
  }
 ],
 "metadata": {
  "kernelspec": {
   "display_name": "Python 3 (ipykernel)",
   "language": "python",
   "name": "python3"
  },
  "language_info": {
   "codemirror_mode": {
    "name": "ipython",
    "version": 3
   },
   "file_extension": ".py",
   "mimetype": "text/x-python",
   "name": "python",
   "nbconvert_exporter": "python",
   "pygments_lexer": "ipython3",
   "version": "3.11.3"
  }
 },
 "nbformat": 4,
 "nbformat_minor": 5
}
