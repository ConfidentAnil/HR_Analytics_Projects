{
 "cells": [
  {
   "cell_type": "code",
   "execution_count": null,
   "id": "933eedcd",
   "metadata": {},
   "outputs": [],
   "source": [
    "import pandas as pd\n",
    "import matplotlib.pyplot as plt"
   ]
  },
  {
   "cell_type": "code",
   "execution_count": null,
   "id": "9f156a08",
   "metadata": {},
   "outputs": [],
   "source": [
    "df = pd.read_csv(r'C:\\Users\\anilk\\OneDrive\\Desktop\\Python_Day1\\PRACTICE\\drug200.csv')\n",
    "df"
   ]
  },
  {
   "cell_type": "code",
   "execution_count": null,
   "id": "31f1a08e",
   "metadata": {},
   "outputs": [],
   "source": [
    "df.isnull().sum() #no null values"
   ]
  },
  {
   "cell_type": "code",
   "execution_count": null,
   "id": "ff5e1948",
   "metadata": {},
   "outputs": [],
   "source": [
    "df.Sex.unique()"
   ]
  },
  {
   "cell_type": "markdown",
   "id": "5b1525f6",
   "metadata": {},
   "source": [
    "\n",
    "EDA"
   ]
  },
  {
   "cell_type": "code",
   "execution_count": null,
   "id": "ad36e61e",
   "metadata": {},
   "outputs": [],
   "source": [
    "#Na_to_K means sodium to potassium ratio in blood\n",
    "\n",
    "\n",
    "\n",
    "from sklearn.preprocessing import LabelEncoder, OneHotEncoder\n",
    "le = LabelEncoder()\n",
    "ohe = OneHotEncoder(sparse=False) #Sparse is set to False because it will give us sparse matrix, we want dense matrix\n",
    "df['Cholesterol'] = le.fit_transform(df['Cholesterol']) #The Cholesterol is ordinal so used labelencoder\n",
    "df['BP'] = le.fit_transform(df['BP']) #BP is ordinal so used labelencoder\n",
    "ohe.fit(x[['Sex']])\n",
    "encoded = ohe.transform(x[['Sex']]) #Sex is nominal, no inherent order, so used OneHotEncoder\n",
    "df2 = pd.DataFrame(encoded, columns = ['Female', 'Male'])\n",
    "encodedDF = df.join(df2)\n"
   ]
  },
  {
   "cell_type": "code",
   "execution_count": null,
   "id": "a0d1674b",
   "metadata": {},
   "outputs": [],
   "source": [
    "x = encodedDF[['Age', 'Sex', 'BP', 'Cholesterol', 'Na_to_K', 'Female', 'Male']]\n",
    "y = encodedDF['Drug']"
   ]
  },
  {
   "cell_type": "code",
   "execution_count": null,
   "id": "8d65f22b",
   "metadata": {},
   "outputs": [],
   "source": [
    "x['Na_to_K'] = x['Na_to_K'].astype('int')\n",
    "x['Female'] = x['Female'].astype('int')\n",
    "x['Male'] = x['Male'].astype('int')\n",
    "x.drop(columns=['Sex'], inplace = True)"
   ]
  },
  {
   "cell_type": "markdown",
   "id": "732c68f0",
   "metadata": {},
   "source": [
    "Model Building"
   ]
  },
  {
   "cell_type": "code",
   "execution_count": null,
   "id": "d4641d6a",
   "metadata": {},
   "outputs": [],
   "source": [
    "from sklearn.model_selection import train_test_split\n",
    "x_train, x_test, y_train, y_test = train_test_split(x,y,test_size = 0.2, random_state = 42)\n",
    "from sklearn.tree import DecisionTreeClassifier\n",
    "dtc = DecisionTreeClassifier()\n",
    "dtc.fit(x_train, y_train)\n",
    "y_predtest = dtc.predict(x_test)\n",
    "y_predtrain = dtc.predict(x_train)"
   ]
  },
  {
   "cell_type": "code",
   "execution_count": null,
   "id": "145a8e4b",
   "metadata": {},
   "outputs": [],
   "source": [
    "from sklearn.metrics import confusion_matrix, accuracy_score, classification_report, roc_auc_score, roc_curve,auc\n",
    "print(classification_report(y_test, y_predtest))\n",
    "print(accuracy_score(y_test,y_predtest))\n",
    "print(confusion_matrix(y_test,y_predtest))"
   ]
  },
  {
   "cell_type": "code",
   "execution_count": null,
   "id": "902932c9",
   "metadata": {},
   "outputs": [],
   "source": [
    "y_test"
   ]
  },
  {
   "cell_type": "markdown",
   "id": "cb5dc7d1",
   "metadata": {},
   "source": [
    "Textual and Graphical Representation of Decision Tree"
   ]
  },
  {
   "cell_type": "code",
   "execution_count": null,
   "id": "32e8affc",
   "metadata": {},
   "outputs": [],
   "source": [
    "#Textual representation\n",
    "from sklearn.tree import export_text\n",
    "text = export_text(dtc)\n",
    "print(text)"
   ]
  },
  {
   "cell_type": "code",
   "execution_count": null,
   "id": "c8b31051",
   "metadata": {},
   "outputs": [],
   "source": [
    "#Graphical representation\n",
    "from sklearn import tree\n",
    "plt.figure(figsize=(15,10))\n",
    "tree.plot_tree(dtc, feature_names = x_train.columns, filled = True)"
   ]
  },
  {
   "cell_type": "code",
   "execution_count": null,
   "id": "567e811d",
   "metadata": {},
   "outputs": [],
   "source": []
  }
 ],
 "metadata": {
  "kernelspec": {
   "display_name": "Python 3 (ipykernel)",
   "language": "python",
   "name": "python3"
  },
  "language_info": {
   "codemirror_mode": {
    "name": "ipython",
    "version": 3
   },
   "file_extension": ".py",
   "mimetype": "text/x-python",
   "name": "python",
   "nbconvert_exporter": "python",
   "pygments_lexer": "ipython3",
   "version": "3.11.3"
  }
 },
 "nbformat": 4,
 "nbformat_minor": 5
}
